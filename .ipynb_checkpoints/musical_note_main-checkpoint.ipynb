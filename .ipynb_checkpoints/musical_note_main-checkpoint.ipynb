{
 "cells": [
  {
   "cell_type": "code",
   "execution_count": null,
   "metadata": {},
   "outputs": [],
   "source": [
    "import numpy as np\n",
    "import scipy.io.wavfile as wav\n",
    "from scipy.fft import fft, fftfreq\n",
    "import matplotlib.pyplot as plt\n",
    "\n",
    "# Load the audio file\n",
    "sampling_rate, data = wav.read('path/to/your/audio_file.wav')\n",
    "\n",
    "# Convert stereo audio to mono\n",
    "if len(data.shape) > 1:\n",
    "    data = data.sum(axis=1) / 2\n",
    "\n",
    "# Perform Fourier transform\n",
    "n = len(data)\n",
    "d = 1.0 / sampling_rate\n",
    "k = np.arange(n)\n",
    "t = k * d\n",
    "freqs = fftfreq(n, d)\n",
    "mask = freqs > 0\n",
    "\n",
    "# Apply Fourier transform to the audio data\n",
    "data_fft = fft(data)\n",
    "data_fft = np.abs(data_fft)\n",
    "\n",
    "# Plot the Fourier transform\n",
    "plt.plot(freqs[mask], data_fft[mask])\n",
    "plt.xlabel('Frequency (Hz)')\n",
    "plt.ylabel('Amplitude')\n",
    "plt.title('Fourier Transform')\n",
    "plt.show()\n",
    "\n",
    "# Threshold for note identification\n",
    "threshold = np.max(data_fft) * 0.1\n",
    "\n",
    "# Identify notes\n",
    "notes = []\n",
    "for i, amplitude in enumerate(data_fft):\n",
    "    if amplitude > threshold:\n",
    "        frequency = freqs[i]\n",
    "        note = round(69 + 12 * np.log2(frequency / 440))\n",
    "        notes.append(note)\n",
    "\n",
    "print('Identified notes:', notes)\n"
   ]
  }
 ],
 "metadata": {
  "kernelspec": {
   "display_name": "Python 3",
   "language": "python",
   "name": "python3"
  },
  "language_info": {
   "codemirror_mode": {
    "name": "ipython",
    "version": 3
   },
   "file_extension": ".py",
   "mimetype": "text/x-python",
   "name": "python",
   "nbconvert_exporter": "python",
   "pygments_lexer": "ipython3",
   "version": "3.8.3"
  }
 },
 "nbformat": 4,
 "nbformat_minor": 4
}
